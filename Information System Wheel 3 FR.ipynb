{
 "cells": [
  {
   "cell_type": "code",
   "execution_count": 1,
   "id": "0bd469ad",
   "metadata": {},
   "outputs": [],
   "source": [
    "import tkinter as tk\n",
    "import random\n",
    "from PIL import Image, ImageTk\n",
    "import random\n",
    "import math"
   ]
  },
  {
   "cell_type": "code",
   "execution_count": 2,
   "id": "1825c981",
   "metadata": {},
   "outputs": [],
   "source": [
    "def show_home():\n",
    "    prize_frame.pack_forget()\n",
    "    cc_frame.pack_forget()\n",
    "    home_frame.pack()"
   ]
  },
  {
   "cell_type": "code",
   "execution_count": 3,
   "id": "4b2f2648",
   "metadata": {},
   "outputs": [],
   "source": [
    "def show_click_and_collect():\n",
    "    home_frame.pack_forget()\n",
    "    prize_frame.pack_forget()\n",
    "    cc_frame.pack()"
   ]
  },
  {
   "cell_type": "code",
   "execution_count": 4,
   "id": "b77e2a0c",
   "metadata": {},
   "outputs": [],
   "source": [
    "def show_prize_wheel():\n",
    "    home_frame.pack_forget()\n",
    "    cc_frame.pack_forget()\n",
    "    prize_frame.pack()\n",
    "    rotate_image(angle)"
   ]
  },
  {
   "cell_type": "code",
   "execution_count": 5,
   "id": "3acfb601",
   "metadata": {},
   "outputs": [],
   "source": [
    "def exit_app():\n",
    "    app.destroy()"
   ]
  },
  {
   "cell_type": "code",
   "execution_count": 6,
   "id": "e0a35270",
   "metadata": {},
   "outputs": [],
   "source": [
    "def pick_up_order():\n",
    "    selected_restaurant = restaurant_list.get(tk.ANCHOR)\n",
    "    if not selected_restaurant:\n",
    "        pick_up_label.config(text=\"Sélectionner un restaurant\")\n",
    "    else:\n",
    "        pick_up_label.config(text=f\"Venez récupérer votre commande à: {selected_restaurant}\")"
   ]
  },
  {
   "cell_type": "code",
   "execution_count": 7,
   "id": "b87c8691",
   "metadata": {},
   "outputs": [],
   "source": [
    "# Fonction pour démarrer la rotation de la roue\n",
    "def pick_prize():\n",
    "    global spinning\n",
    "    spinning = True  # Indique que la roue tourne\n",
    "    roulette_wheel.after(1, update_image)  # Appelle la fonction update_image après 1 ms"
   ]
  },
  {
   "cell_type": "code",
   "execution_count": 8,
   "id": "6aa35b4e",
   "metadata": {},
   "outputs": [],
   "source": [
    "# Fonction pour mettre à jour l'image de la roue en rotation\n",
    "def update_image():\n",
    "    global spinning, angle\n",
    "\n",
    "    if spinning:  # Si la roue est en train de tourner\n",
    "        angle = (angle + 5) % 360  # Met à jour l'angle de rotation de la roue\n",
    "        rotate_image(angle)  # Appelle la fonction rotate_image pour pivoter l'image\n",
    "        roulette_wheel.after(50, update_image)  # Appelle la fonction update_image après 50 ms pour créer l'effet de rotation\n",
    "    else:\n",
    "        show_prize()  # Si la roue ne tourne pas, affiche le prix sélectionné"
   ]
  },
  {
   "cell_type": "code",
   "execution_count": 9,
   "id": "fbdf806c",
   "metadata": {},
   "outputs": [],
   "source": [
    "# Fonction pour faire pivoter l'image en fonction de l'angle donné\n",
    "def rotate_image(angle):\n",
    "    image_rotated = image_original.copy()  # Crée une copie de l'image originale pour éviter de modifier l'originale\n",
    "    image_rotated = image_rotated.rotate(angle, resample=0, expand=True)  # Fait pivoter l'image en fonction de l'angle\n",
    "    image_rotated.thumbnail((300, 300), Image.ANTIALIAS)  # Redimensionne l'image en conservant les proportions\n",
    "    wheel_image = ImageTk.PhotoImage(image_rotated)  # Convertit l'image PIL en image tkinter\n",
    "    roulette_wheel.config(image=wheel_image)  # Met à jour l'image affichée sur le label roulette_wheel\n",
    "    roulette_wheel.image = wheel_image  # Conserve une référence à l'image pour éviter que l'image ne soit supprimée"
   ]
  },
  {
   "cell_type": "code",
   "execution_count": 10,
   "id": "fd451423",
   "metadata": {},
   "outputs": [],
   "source": [
    "# Fonction pour afficher le prix sélectionné\n",
    "def show_prize():\n",
    "    # Liste des prix et leurs plages de probabilité\n",
    "    prizes = [\n",
    "        (\"Raté\", 0, 30),\n",
    "        (\"10 Points de fidélité\", 31, 65),\n",
    "        (\"Burger\", 66, 90),\n",
    "        (\"Menu\", 91, 100)\n",
    "    ]\n",
    "\n",
    "    rand_num = random.randint(1, 100)  # Génère un nombre aléatoire entre 1 et 100\n",
    "    selected_prize = None  # Initialise la variable pour le prix sélectionné\n",
    "\n",
    "    # Parcourt la liste des prix et vérifie si le nombre aléatoire se trouve dans la plage de probabilité du prix\n",
    "    for prize, lower, upper in prizes:\n",
    "        if lower <= rand_num <= upper:\n",
    "            selected_prize = prize  # Si le nombre aléatoire se trouve dans la plage, sélectionne ce prix\n",
    "            break\n",
    "\n",
    "    prize_label.config(text=f\"Vous avez gagné : {selected_prize}\")  # Met à jour le texte du label prize_label pour afficher le prix sélectionné"
   ]
  },
  {
   "cell_type": "code",
   "execution_count": 11,
   "id": "107ba8f5",
   "metadata": {},
   "outputs": [],
   "source": [
    "# Fonction pour arrêter la rotation de la roue\n",
    "def stop_spin():\n",
    "    global spinning\n",
    "    spinning = False  # Indique que la roue ne tourne plus"
   ]
  },
  {
   "cell_type": "code",
   "execution_count": 13,
   "id": "2a6178e9",
   "metadata": {},
   "outputs": [
    {
     "name": "stderr",
     "output_type": "stream",
     "text": [
      "C:\\Users\\phili\\AppData\\Local\\Temp\\ipykernel_24772\\1731336364.py:60: DeprecationWarning: ANTIALIAS is deprecated and will be removed in Pillow 10 (2023-07-01). Use Resampling.LANCZOS instead.\n",
      "  image_original.thumbnail((300, 300), Image.ANTIALIAS)\n",
      "C:\\Users\\phili\\AppData\\Local\\Temp\\ipykernel_24772\\2004585726.py:5: DeprecationWarning: ANTIALIAS is deprecated and will be removed in Pillow 10 (2023-07-01). Use Resampling.LANCZOS instead.\n",
      "  image_rotated.thumbnail((300, 300), Image.ANTIALIAS)  # Redimensionne l'image en conservant les proportions\n"
     ]
    }
   ],
   "source": [
    "app = tk.Tk()\n",
    "app.title(\"Fast-Food App\")\n",
    "\n",
    "# Home frame\n",
    "home_frame = tk.Frame(app, padx=20, pady=20)\n",
    "home_frame.pack()\n",
    "\n",
    "click_and_collect_button = tk.Button(home_frame, text=\"ClickAndCollect\", font=(\"Arial\", 12), command=show_click_and_collect)\n",
    "click_and_collect_button.pack(pady=10)\n",
    "\n",
    "wheel_button = tk.Button(home_frame, text=\"Roue\", font=(\"Arial\", 12), command=show_prize_wheel)\n",
    "wheel_button.pack(pady=10)\n",
    "\n",
    "exit_button = tk.Button(home_frame, text=\"Quitter\", font=(\"Arial\", 12), command=exit_app)\n",
    "exit_button.pack(pady=10)\n",
    "\n",
    "# Click and collect frame\n",
    "cc_frame = tk.Frame(app, padx=20, pady=20)\n",
    "\n",
    "restaurants = [\"Gare du Nord\", \"Beaugrenelle\", \"Sorbonne\"]\n",
    "\n",
    "restaurant_list = tk.Listbox(cc_frame, font=(\"Arial\", 12))\n",
    "for restaurant in restaurants:\n",
    "    restaurant_list.insert(tk.END, restaurant)\n",
    "restaurant_list.pack(pady=10)\n",
    "\n",
    "pick_up_button = tk.Button(cc_frame, text=\"Récupérer votre commande\", font=(\"Arial\", 12), command=pick_up_order)\n",
    "pick_up_button.pack(pady=10)\n",
    "\n",
    "pick_up_label = tk.Label(cc_frame, text=\"\", font=(\"Arial\", 14))\n",
    "pick_up_label.pack(pady=10)\n",
    "\n",
    "cc_back_button = tk.Button(cc_frame, text=\"Retour\", font=(\"Arial\", 12), command=show_home)\n",
    "cc_back_button.pack(pady=10)\n",
    "\n",
    "# Prize frame\n",
    "prize_frame = tk.Frame(app, padx=20, pady=20)\n",
    "\n",
    "roulette_wheel = tk.Label(prize_frame)\n",
    "roulette_wheel.pack(pady=10)\n",
    "\n",
    "prize_label = tk.Label(prize_frame, text=\"Lancer la roue\", font=(\"Arial\", 14))\n",
    "prize_label.pack(pady=10)\n",
    "\n",
    "pick_button = tk.Button(prize_frame, text=\"Récupéré votre prix\", font=(\"Arial\", 12), command=pick_prize)\n",
    "pick_button.pack(pady=10)\n",
    "\n",
    "stop_button = tk.Button(prize_frame, text=\"Stop\", font=(\"Arial\", 12), command=stop_spin)\n",
    "stop_button.pack(pady=10)\n",
    "\n",
    "prize_back_button = tk.Button(prize_frame, text=\"Retour\", font=(\"Arial\", 12), command=show_home)\n",
    "prize_back_button.pack(pady=10)\n",
    "\n",
    "# Wheel-related code (from your original code)\n",
    "spinning = False\n",
    "angle = 0\n",
    "\n",
    "image_path = \"C:/Users/phili/Documents/Sorbonne university/S2 S2IE/Informatique/Projet/Code IS/roue.png\"\n",
    "image_original = Image.open(image_path)\n",
    "image_original.thumbnail((300, 300), Image.ANTIALIAS)\n",
    "\n",
    "\n",
    "app.mainloop()"
   ]
  },
  {
   "cell_type": "raw",
   "id": "5315d150",
   "metadata": {},
   "source": [
    "# Explication concernant l'effet de taille variable de la roue lors de la rotation :\n",
    "#\n",
    "# Dans la fonction `rotate_image()`, la ligne suivante redimensionne l'image pivotée pour\n",
    "# qu'elle s'adapte dans un carré de 300x300 pixels tout en conservant les proportions :\n",
    "#\n",
    "# image_rotated.thumbnail((300, 300), Image.ANTIALIAS)\n",
    "#\n",
    "# Cela a pour effet de faire varier légèrement la taille de la roue lors de la rotation,\n",
    "# car l'image pivotée peut avoir des dimensions différentes en fonction de l'angle de\n",
    "# rotation. La raison en est que l'image est d'abord pivotée, puis redimensionnée, et\n",
    "# étant donné que l'image pivotée peut avoir des dimensions légèrement différentes en\n",
    "# fonction de l'angle, la taille de l'image finale varie également."
   ]
  }
 ],
 "metadata": {
  "kernelspec": {
   "display_name": "Python 3 (ipykernel)",
   "language": "python",
   "name": "python3"
  },
  "language_info": {
   "codemirror_mode": {
    "name": "ipython",
    "version": 3
   },
   "file_extension": ".py",
   "mimetype": "text/x-python",
   "name": "python",
   "nbconvert_exporter": "python",
   "pygments_lexer": "ipython3",
   "version": "3.8.8"
  }
 },
 "nbformat": 4,
 "nbformat_minor": 5
}
